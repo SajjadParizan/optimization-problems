{
 "cells": [
  {
   "cell_type": "markdown",
   "id": "4ea06548",
   "metadata": {},
   "source": [
    "## boxes problem\n",
    "imagine a plain which has two axis y,x \n",
    "\n",
    "in this problem we have N boxes that are aligned in one row (y=0) and then we have N objects that are cluttered in this plain with various coordination \n",
    "\n",
    "* We want to find an arrangement of objects such that:\n",
    "    * each box contains exactly one object,\n",
    "    * each object is stored in one box,\n",
    "    * the total distance from object $j$ to its storage box is minimal. "
   ]
  },
  {
   "cell_type": "markdown",
   "id": "28378e20",
   "metadata": {},
   "source": [
    "first we have to provide our data"
   ]
  },
  {
   "cell_type": "code",
   "execution_count": 1,
   "id": "ca26ee25",
   "metadata": {},
   "outputs": [],
   "source": [
    "N=15\n",
    "box_range=range(1,N+1)\n",
    "object_range=range(1,N+1)\n",
    "\n",
    "\n",
    "\n",
    "#each box coordination\n",
    "b_cor={b:(b*12+2,2) for b in box_range}\n",
    "\n",
    "\n",
    "\n",
    "\n",
    "\n",
    "\n",
    "\n",
    "obj_coords= {1: (140, 6), 2: (146, 8), 3: (132, 14), 4: (53, 28), \n",
    "             5: (146, 4), 6: (137, 13), 7: (95, 12), 8: (68, 9), 9: (102, 18), \n",
    "             10: (116, 8), 11: (19, 29), 12: (89, 15), 13: (141, 4), 14: (29, 4), 15: (4, 28)}\n",
    "\n",
    "# we are going to use Euclidean distance to compute the distance between an object and its assigned box\n",
    "import math\n",
    "distance={}\n",
    "for o in object_range:\n",
    "    for b in box_range:\n",
    "        dx=obj_coords[o][0]-b_cor[b][0]\n",
    "        dy=obj_coords[o][1]-b_cor[b][1]\n",
    "        d=dx*dx+dy*dy\n",
    "        d_sq=math.sqrt(d)\n",
    "        distance[b,o]=round(d_sq,1)"
   ]
  },
  {
   "cell_type": "code",
   "execution_count": 2,
   "id": "9a3138cb",
   "metadata": {},
   "outputs": [],
   "source": [
    "# now we have to import the relevant libraries\n",
    "# since we want to solve this problem with cplex we should import the following libraries\n",
    "import cplex\n",
    "import docplex.mp\n",
    "from docplex.mp.model import Model"
   ]
  },
  {
   "cell_type": "code",
   "execution_count": 3,
   "id": "d61a7ae9",
   "metadata": {},
   "outputs": [],
   "source": [
    "# time to make instance of our model\n",
    "model=Model(name='box_model')"
   ]
  },
  {
   "cell_type": "code",
   "execution_count": 4,
   "id": "e28cace9",
   "metadata": {},
   "outputs": [],
   "source": [
    "# let's make our variables which are binary variables\n",
    "x={}\n",
    "for o in object_range:\n",
    "    for b in box_range:\n",
    "        x[b,o]=model.binary_var()"
   ]
  },
  {
   "cell_type": "code",
   "execution_count": 8,
   "id": "3b9e3758",
   "metadata": {},
   "outputs": [],
   "source": [
    "# time to add our constraints\n",
    "\n",
    "#for each object we have to assign one box\n",
    "for o in object_range:\n",
    "    model.add_constraint(model.sum(x[b,o] for b in box_range)==1)\n",
    "\n",
    "#for each box we have to assign one object    \n",
    "for b in box_range:\n",
    "    model.add_constraint(model.sum(x[b,o] for o in object_range)==1)\n",
    "    "
   ]
  },
  {
   "cell_type": "code",
   "execution_count": 10,
   "id": "6bee5833",
   "metadata": {},
   "outputs": [
    {
     "name": "stdout",
     "output_type": "stream",
     "text": [
      "Model: box_model\n",
      " - number of variables: 225\n",
      "   - binary=225, integer=0, continuous=0\n",
      " - number of constraints: 30\n",
      "   - linear=30\n",
      " - parameters: defaults\n",
      " - objective: none\n",
      " - problem type is: MILP\n"
     ]
    }
   ],
   "source": [
    "model.print_information()"
   ]
  },
  {
   "cell_type": "code",
   "execution_count": 11,
   "id": "1bfa5161",
   "metadata": {},
   "outputs": [],
   "source": [
    "model.minimize(model.sum(distance[b,o]*x[b,o] for o in object_range for b in box_range))"
   ]
  },
  {
   "cell_type": "code",
   "execution_count": 12,
   "id": "564522fa",
   "metadata": {},
   "outputs": [],
   "source": [
    "result=model.solve()"
   ]
  },
  {
   "cell_type": "code",
   "execution_count": 13,
   "id": "5ab67c3f",
   "metadata": {},
   "outputs": [
    {
     "name": "stdout",
     "output_type": "stream",
     "text": [
      "objective: 269.600\n",
      "  x11=1\n",
      "  x29=1\n",
      "  x40=1\n",
      "  x49=1\n",
      "  x73=1\n",
      "  x90=1\n",
      "  x97=1\n",
      "  x110=1\n",
      "  x128=1\n",
      "  x144=1\n",
      "  x153=1\n",
      "  x171=1\n",
      "  x192=1\n",
      "  x197=1\n",
      "  x211=1\n"
     ]
    }
   ],
   "source": [
    "model.print_solution()"
   ]
  },
  {
   "cell_type": "code",
   "execution_count": 30,
   "id": "8c747ea5",
   "metadata": {},
   "outputs": [],
   "source": [
    "x_key_list=list(x.keys())"
   ]
  },
  {
   "cell_type": "code",
   "execution_count": 38,
   "id": "483bc365",
   "metadata": {},
   "outputs": [
    {
     "data": {
      "text/plain": [
       "1"
      ]
     },
     "execution_count": 38,
     "metadata": {},
     "output_type": "execute_result"
    }
   ],
   "source": [
    "x_key_list[0][0]"
   ]
  },
  {
   "cell_type": "code",
   "execution_count": 33,
   "id": "0cd890f5",
   "metadata": {},
   "outputs": [],
   "source": [
    "var_list=[11,29,40,49,73,90,97,110,128,144,153,171,192,197,211]"
   ]
  },
  {
   "cell_type": "code",
   "execution_count": 42,
   "id": "6a387544",
   "metadata": {},
   "outputs": [
    {
     "name": "stdout",
     "output_type": "stream",
     "text": [
      "we should assign box 11 to object 1\n",
      "we should assign box 14 to object 2\n",
      "we should assign box 10 to object 3\n",
      "we should assign box 4 to object 4\n",
      "we should assign box 13 to object 5\n",
      "we should assign box 15 to object 6\n",
      "we should assign box 7 to object 7\n",
      "we should assign box 5 to object 8\n",
      "we should assign box 8 to object 9\n",
      "we should assign box 9 to object 10\n",
      "we should assign box 3 to object 11\n",
      "we should assign box 6 to object 12\n",
      "we should assign box 12 to object 13\n",
      "we should assign box 2 to object 14\n",
      "we should assign box 1 to object 15\n",
      "finally the minimum objective value is:  269.6\n"
     ]
    }
   ],
   "source": [
    "for i in var_list:\n",
    "    print('we should assign box {} to object {}'.format(x_key_list[i-1][0],x_key_list[i-1][1]))\n",
    "print('finally the minimum objective value is: ',269.6)    "
   ]
  },
  {
   "cell_type": "markdown",
   "id": "c597e6d9",
   "metadata": {},
   "source": [
    "## now it is time to make our problem a little trickey\n",
    "\n",
    "* First, we solve the problem described, and then we add two new constraints and examine how the cost (and solution) changes.\n",
    "    * From the first solution, we impose that object #1 is assigned to the box immediately to the left of object #2.\n",
    "    "
   ]
  },
  {
   "cell_type": "code",
   "execution_count": 45,
   "id": "b6cd39d7",
   "metadata": {},
   "outputs": [
    {
     "data": {
      "text/plain": [
       "[docplex.mp.LinearConstraint[](x1,GE,x17),\n",
       " docplex.mp.LinearConstraint[](x2,GE,x18),\n",
       " docplex.mp.LinearConstraint[](x3,GE,x19),\n",
       " docplex.mp.LinearConstraint[](x4,GE,x20),\n",
       " docplex.mp.LinearConstraint[](x5,GE,x21),\n",
       " docplex.mp.LinearConstraint[](x6,GE,x22),\n",
       " docplex.mp.LinearConstraint[](x7,GE,x23),\n",
       " docplex.mp.LinearConstraint[](x8,GE,x24),\n",
       " docplex.mp.LinearConstraint[](x9,GE,x25),\n",
       " docplex.mp.LinearConstraint[](x10,GE,x26),\n",
       " docplex.mp.LinearConstraint[](x11,GE,x27),\n",
       " docplex.mp.LinearConstraint[](x12,GE,x28),\n",
       " docplex.mp.LinearConstraint[](x13,GE,x29),\n",
       " docplex.mp.LinearConstraint[](x14,GE,x30)]"
      ]
     },
     "execution_count": 45,
     "metadata": {},
     "output_type": "execute_result"
    }
   ],
   "source": [
    "#add the first constraints\n",
    "#since we want to impost that the object 1 should be to the immediate left of \n",
    "#the object 2 so object 2 can't be assigned to box 1\n",
    "model.add_(x[1,2]==0)\n",
    "\n",
    "# now it's time to add that constraints\n",
    "model.add_constraints(x[n-1,1]>=x[n,2] for n in range(2,N+1))\n"
   ]
  },
  {
   "cell_type": "code",
   "execution_count": 46,
   "id": "3636ed79",
   "metadata": {},
   "outputs": [
    {
     "name": "stdout",
     "output_type": "stream",
     "text": [
      "Model: box_model\n",
      " - number of variables: 225\n",
      "   - binary=225, integer=0, continuous=0\n",
      " - number of constraints: 46\n",
      "   - linear=46\n",
      " - parameters: defaults\n",
      " - objective: minimize\n",
      " - problem type is: MILP\n"
     ]
    }
   ],
   "source": [
    "model.print_information()"
   ]
  },
  {
   "cell_type": "code",
   "execution_count": 47,
   "id": "d7afaf49",
   "metadata": {},
   "outputs": [],
   "source": [
    "results2=model.solve()"
   ]
  },
  {
   "cell_type": "code",
   "execution_count": 49,
   "id": "cd049fcd",
   "metadata": {},
   "outputs": [
    {
     "name": "stdout",
     "output_type": "stream",
     "text": [
      "objective: 269.600\n",
      "  x14=1\n",
      "  x30=1\n",
      "  x40=1\n",
      "  x49=1\n",
      "  x73=1\n",
      "  x86=1\n",
      "  x97=1\n",
      "  x110=1\n",
      "  x128=1\n",
      "  x144=1\n",
      "  x153=1\n",
      "  x171=1\n",
      "  x192=1\n",
      "  x197=1\n",
      "  x211=1\n"
     ]
    }
   ],
   "source": [
    "model.print_solution()"
   ]
  },
  {
   "cell_type": "code",
   "execution_count": 52,
   "id": "6eae6d9f",
   "metadata": {},
   "outputs": [],
   "source": [
    "var_list2=[14,30,40,49,73,86,97,110,128,144,153,171,192,197,211]"
   ]
  },
  {
   "cell_type": "code",
   "execution_count": 53,
   "id": "58a10504",
   "metadata": {},
   "outputs": [
    {
     "name": "stdout",
     "output_type": "stream",
     "text": [
      "we should assign box 14 to object 1\n",
      "we should assign box 15 to object 2\n",
      "we should assign box 10 to object 3\n",
      "we should assign box 4 to object 4\n",
      "we should assign box 13 to object 5\n",
      "we should assign box 11 to object 6\n",
      "we should assign box 7 to object 7\n",
      "we should assign box 5 to object 8\n",
      "we should assign box 8 to object 9\n",
      "we should assign box 9 to object 10\n",
      "we should assign box 3 to object 11\n",
      "we should assign box 6 to object 12\n",
      "we should assign box 12 to object 13\n",
      "we should assign box 2 to object 14\n",
      "we should assign box 1 to object 15\n",
      "finally the minimum objective value is:  269.6\n"
     ]
    }
   ],
   "source": [
    "for i in var_list2:\n",
    "    print('we should assign box {} to object {}'.format(x_key_list[i-1][0],x_key_list[i-1][1]))\n",
    "print('finally the minimum objective value is: ',269.6)   "
   ]
  },
  {
   "cell_type": "markdown",
   "id": "527b55fa",
   "metadata": {},
   "source": [
    "# finish"
   ]
  }
 ],
 "metadata": {
  "kernelspec": {
   "display_name": "Python 3",
   "language": "python",
   "name": "python3"
  },
  "language_info": {
   "codemirror_mode": {
    "name": "ipython",
    "version": 3
   },
   "file_extension": ".py",
   "mimetype": "text/x-python",
   "name": "python",
   "nbconvert_exporter": "python",
   "pygments_lexer": "ipython3",
   "version": "3.8.8"
  }
 },
 "nbformat": 4,
 "nbformat_minor": 5
}
