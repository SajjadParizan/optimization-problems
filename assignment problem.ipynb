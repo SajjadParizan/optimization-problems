{
 "cells": [
  {
   "cell_type": "markdown",
   "id": "7d7f12e4",
   "metadata": {},
   "source": [
    "## in this notebook we are going to address the assignment problem which is an operation research problem \n",
    "\n",
    "description of the problem:\n",
    "there are 5 workers and 4 tasks and each task should assign to one worker during this we are going to reduce the cost of completing jobs.\n",
    "\n",
    "this is linear programming and we are going to use cplex in order to solve this problem"
   ]
  },
  {
   "cell_type": "code",
   "execution_count": 2,
   "id": "25992e3f",
   "metadata": {},
   "outputs": [],
   "source": [
    "# import relevant libraries\n",
    "import cplex \n",
    "import docplex.mp\n",
    "from docplex.mp.model import Model"
   ]
  },
  {
   "cell_type": "code",
   "execution_count": 3,
   "id": "6f25c77c",
   "metadata": {},
   "outputs": [],
   "source": [
    "# make instance of our model\n",
    "model=Model(name='assignmentProblem')"
   ]
  },
  {
   "cell_type": "code",
   "execution_count": 15,
   "id": "e22121dd",
   "metadata": {},
   "outputs": [],
   "source": [
    "# explore our data a little bit\n",
    "import numpy as np\n",
    "import pandas as pd\n",
    "costs = [\n",
    "    [90, 80, 75, 70],\n",
    "    [35, 85, 55, 65],\n",
    "    [125, 95, 90, 95],\n",
    "    [45, 110, 95, 115],\n",
    "    [50, 100, 90, 100],\n",
    "]\n",
    "data_array=np.array(costs)\n",
    "data=pd.DataFrame(data_array.T,columns=['worker 1','worker 2','worker 3','worker 4','worker 5'],index=['task 1','task 2','task 3','task 4'])\n",
    "pd.Index.set_names='tasks'"
   ]
  },
  {
   "cell_type": "code",
   "execution_count": 16,
   "id": "748d50d9",
   "metadata": {},
   "outputs": [
    {
     "data": {
      "text/html": [
       "<div>\n",
       "<style scoped>\n",
       "    .dataframe tbody tr th:only-of-type {\n",
       "        vertical-align: middle;\n",
       "    }\n",
       "\n",
       "    .dataframe tbody tr th {\n",
       "        vertical-align: top;\n",
       "    }\n",
       "\n",
       "    .dataframe thead th {\n",
       "        text-align: right;\n",
       "    }\n",
       "</style>\n",
       "<table border=\"1\" class=\"dataframe\">\n",
       "  <thead>\n",
       "    <tr style=\"text-align: right;\">\n",
       "      <th></th>\n",
       "      <th>worker 1</th>\n",
       "      <th>worker 2</th>\n",
       "      <th>worker 3</th>\n",
       "      <th>worker 4</th>\n",
       "      <th>worker 5</th>\n",
       "    </tr>\n",
       "  </thead>\n",
       "  <tbody>\n",
       "    <tr>\n",
       "      <th>task 1</th>\n",
       "      <td>90</td>\n",
       "      <td>35</td>\n",
       "      <td>125</td>\n",
       "      <td>45</td>\n",
       "      <td>50</td>\n",
       "    </tr>\n",
       "    <tr>\n",
       "      <th>task 2</th>\n",
       "      <td>80</td>\n",
       "      <td>85</td>\n",
       "      <td>95</td>\n",
       "      <td>110</td>\n",
       "      <td>100</td>\n",
       "    </tr>\n",
       "    <tr>\n",
       "      <th>task 3</th>\n",
       "      <td>75</td>\n",
       "      <td>55</td>\n",
       "      <td>90</td>\n",
       "      <td>95</td>\n",
       "      <td>90</td>\n",
       "    </tr>\n",
       "    <tr>\n",
       "      <th>task 4</th>\n",
       "      <td>70</td>\n",
       "      <td>65</td>\n",
       "      <td>95</td>\n",
       "      <td>115</td>\n",
       "      <td>100</td>\n",
       "    </tr>\n",
       "  </tbody>\n",
       "</table>\n",
       "</div>"
      ],
      "text/plain": [
       "        worker 1  worker 2  worker 3  worker 4  worker 5\n",
       "task 1        90        35       125        45        50\n",
       "task 2        80        85        95       110       100\n",
       "task 3        75        55        90        95        90\n",
       "task 4        70        65        95       115       100"
      ]
     },
     "execution_count": 16,
     "metadata": {},
     "output_type": "execute_result"
    }
   ],
   "source": [
    "data"
   ]
  },
  {
   "cell_type": "code",
   "execution_count": 20,
   "id": "9e369eb4",
   "metadata": {},
   "outputs": [],
   "source": [
    "num_workers=range(5)\n",
    "num_tasks=range(4)"
   ]
  },
  {
   "cell_type": "code",
   "execution_count": 23,
   "id": "bdc37d6c",
   "metadata": {},
   "outputs": [
    {
     "name": "stdout",
     "output_type": "stream",
     "text": [
      "Warning: Duplicate variable name: wor00 already used for docplex.mp.Var(type=B,name='wor00')\n"
     ]
    }
   ],
   "source": [
    "# time to create our variables\n",
    "# they should be binary variables\n",
    "x={}\n",
    "for i in num_tasks:\n",
    "    for j in num_workers:\n",
    "        x[i,j]=model.binary_var(name='wor'+str(i)+str(j))"
   ]
  },
  {
   "cell_type": "code",
   "execution_count": 25,
   "id": "4eab89f3",
   "metadata": {},
   "outputs": [
    {
     "data": {
      "text/plain": [
       "20"
      ]
     },
     "execution_count": 25,
     "metadata": {},
     "output_type": "execute_result"
    }
   ],
   "source": [
    "len(x)"
   ]
  },
  {
   "cell_type": "code",
   "execution_count": 26,
   "id": "80591be8",
   "metadata": {},
   "outputs": [],
   "source": [
    "#let's make the constraints :)\n",
    "for i in num_tasks:\n",
    "    model.add_constraint(model.sum(x[i,j] for j in num_workers)==1)\n",
    "for j in num_workers:\n",
    "    model.add_constraint(model.sum(x[i,j] for i in num_tasks)<=1)"
   ]
  },
  {
   "cell_type": "code",
   "execution_count": 29,
   "id": "42fba318",
   "metadata": {},
   "outputs": [],
   "source": [
    "model.minimize(model.sum(x[i,j]*costs[j][i] for i in num_tasks for j in num_workers))"
   ]
  },
  {
   "cell_type": "code",
   "execution_count": 31,
   "id": "1c06f186",
   "metadata": {},
   "outputs": [
    {
     "name": "stdout",
     "output_type": "stream",
     "text": [
      "Model: assignmentProblem\n",
      " - number of variables: 21\n",
      "   - binary=21, integer=0, continuous=0\n",
      " - number of constraints: 9\n",
      "   - linear=9\n",
      " - parameters: defaults\n",
      " - objective: minimize\n",
      " - problem type is: MILP\n"
     ]
    }
   ],
   "source": [
    "model.print_information()"
   ]
  },
  {
   "cell_type": "code",
   "execution_count": 32,
   "id": "e44daa59",
   "metadata": {},
   "outputs": [],
   "source": [
    "results=model.solve()"
   ]
  },
  {
   "cell_type": "code",
   "execution_count": 34,
   "id": "0bea6001",
   "metadata": {},
   "outputs": [
    {
     "name": "stdout",
     "output_type": "stream",
     "text": [
      "objective: 265\n",
      "  wor03=1\n",
      "  wor12=1\n",
      "  wor21=1\n",
      "  wor30=1\n"
     ]
    }
   ],
   "source": [
    "model.print_solution()"
   ]
  },
  {
   "cell_type": "markdown",
   "id": "a10c1319",
   "metadata": {},
   "source": [
    "### it seems you can do all the task with just `256` dollars if you assign the `task 0` to `worker 3`, `task 1` to `worker 2`, `task 2` to `worker 1` and `task 3` to `worker 0`."
   ]
  },
  {
   "cell_type": "code",
   "execution_count": null,
   "id": "0789a824",
   "metadata": {},
   "outputs": [],
   "source": []
  }
 ],
 "metadata": {
  "kernelspec": {
   "display_name": "Python 3",
   "language": "python",
   "name": "python3"
  },
  "language_info": {
   "codemirror_mode": {
    "name": "ipython",
    "version": 3
   },
   "file_extension": ".py",
   "mimetype": "text/x-python",
   "name": "python",
   "nbconvert_exporter": "python",
   "pygments_lexer": "ipython3",
   "version": "3.8.8"
  }
 },
 "nbformat": 4,
 "nbformat_minor": 5
}
